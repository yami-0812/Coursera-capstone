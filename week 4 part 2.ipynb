{
    "cells": [
        {
            "cell_type": "markdown",
            "metadata": {},
            "source": "# Data Description"
        },
        {
            "cell_type": "markdown",
            "metadata": {},
            "source": "## Data Description:"
        },
        {
            "cell_type": "markdown",
            "metadata": {},
            "source": "District of Ankara are obtained from https://en.wikipedia.org/wiki/Ankara_Province\nLatitude and Longitude values are obtained by using \"geocoder\".\nAll data related to locations will be obtaine by using FourSquare API and Python Libraries."
        },
        {
            "cell_type": "code",
            "execution_count": 1,
            "metadata": {},
            "outputs": [],
            "source": "import requests\nimport pandas as pd\nfrom bs4 import BeautifulSoup\nimport geocoder"
        },
        {
            "cell_type": "code",
            "execution_count": 4,
            "metadata": {},
            "outputs": [
                {
                    "data": {
                        "text/plain": "<Response [200]>"
                    },
                    "execution_count": 4,
                    "metadata": {},
                    "output_type": "execute_result"
                }
            ],
            "source": "wiki_link = 'https://en.wikipedia.org/wiki/Ankara_Province'\nheaders = {'User-Agent': 'Mozilla/5.0 (Windows NT 10.0; Win64; x64; rv:64.0) Gecko/20100101 Firefox/64.0'}\nwiki_page = requests.get(wiki_link, headers = headers)\nwiki_page"
        },
        {
            "cell_type": "code",
            "execution_count": 5,
            "metadata": {},
            "outputs": [],
            "source": "soup = BeautifulSoup(wiki_page.content, 'html.parser')\ntable = soup.find('table', {'class':'wikitable sortable'}).tbody"
        },
        {
            "cell_type": "code",
            "execution_count": 6,
            "metadata": {},
            "outputs": [],
            "source": "rows = table.find_all('tr')"
        },
        {
            "cell_type": "code",
            "execution_count": 7,
            "metadata": {},
            "outputs": [
                {
                    "data": {
                        "text/plain": "['District', 'Population (2017)', 'Area (km\u00b2)', 'Density (per km\u00b2)']"
                    },
                    "execution_count": 7,
                    "metadata": {},
                    "output_type": "execute_result"
                }
            ],
            "source": "columns = [i.text.replace('\\n', '') for i in rows[0].find_all('th')]\ncolumns"
        },
        {
            "cell_type": "code",
            "execution_count": 8,
            "metadata": {},
            "outputs": [],
            "source": "df_ankara = pd.DataFrame(columns = columns)"
        },
        {
            "cell_type": "code",
            "execution_count": 9,
            "metadata": {},
            "outputs": [],
            "source": "for i in range(1, len(rows)):\n    tds = rows[i].find_all('td')\n    \n    if len(tds) == 7:\n        values = [tds[0].text, tds[1].text, tds[2].text.replace('\\n', ''.replace('\\xa0','')), tds[3].text, tds[4].text.replace('\\n', ''.replace('\\xa0','')), tds[5].text.replace('\\n', ''.replace('\\xa0','')), tds[6].text.replace('\\n', ''.replace('\\xa0',''))]\n    else:\n        values = [td.text.replace('\\n', '').replace('\\xa0','') for td in tds]\n        \n        df_ankara = df_ankara.append(pd.Series(values, index = columns), ignore_index = True)\n\n        df_ankara"
        },
        {
            "cell_type": "code",
            "execution_count": 10,
            "metadata": {},
            "outputs": [
                {
                    "data": {
                        "text/html": "<div>\n<style scoped>\n    .dataframe tbody tr th:only-of-type {\n        vertical-align: middle;\n    }\n\n    .dataframe tbody tr th {\n        vertical-align: top;\n    }\n\n    .dataframe thead th {\n        text-align: right;\n    }\n</style>\n<table border=\"1\" class=\"dataframe\">\n  <thead>\n    <tr style=\"text-align: right;\">\n      <th></th>\n      <th>District</th>\n      <th>Population (2017)</th>\n      <th>Area (km\u00b2)</th>\n      <th>Density (per km\u00b2)</th>\n    </tr>\n  </thead>\n  <tbody>\n    <tr>\n      <th>0</th>\n      <td>Akyurt</td>\n      <td>32.863</td>\n      <td>369</td>\n      <td>89</td>\n    </tr>\n    <tr>\n      <th>1</th>\n      <td>Alt\u0131nda\u011f</td>\n      <td>371.366</td>\n      <td>123</td>\n      <td>3.019</td>\n    </tr>\n    <tr>\n      <th>2</th>\n      <td>Aya\u015f</td>\n      <td>12.289</td>\n      <td>1.041</td>\n      <td>12</td>\n    </tr>\n    <tr>\n      <th>3</th>\n      <td>Bala</td>\n      <td>21.682</td>\n      <td>1.851</td>\n      <td>12</td>\n    </tr>\n    <tr>\n      <th>4</th>\n      <td>Beypazar\u0131</td>\n      <td>48.476</td>\n      <td>1.697</td>\n      <td>29</td>\n    </tr>\n  </tbody>\n</table>\n</div>",
                        "text/plain": "    District Population (2017) Area (km\u00b2) Density (per km\u00b2)\n0     Akyurt            32.863        369                89\n1   Alt\u0131nda\u011f           371.366        123             3.019\n2       Aya\u015f            12.289      1.041                12\n3       Bala            21.682      1.851                12\n4  Beypazar\u0131            48.476      1.697                29"
                    },
                    "execution_count": 10,
                    "metadata": {},
                    "output_type": "execute_result"
                }
            ],
            "source": "df_ankara.head()"
        },
        {
            "cell_type": "code",
            "execution_count": 11,
            "metadata": {},
            "outputs": [],
            "source": "def get_latlng(arcgis_geocoder):\n    \n    lat_lng_coords = None\n    \n    while(lat_lng_coords is None):\n        g = geocoder.arcgis('{}, Ankara, Turkey'.format(arcgis_geocoder))\n        lat_lng_coords = g.latlng\n    return lat_lng_coords"
        },
        {
            "cell_type": "code",
            "execution_count": 12,
            "metadata": {},
            "outputs": [],
            "source": "districts = df_ankara['District']    \ncoordinates = [get_latlng(districts) for districts in districts.tolist()]"
        },
        {
            "cell_type": "code",
            "execution_count": 13,
            "metadata": {},
            "outputs": [],
            "source": "df_ankara_loc = df_ankara\n\ndf_ankara_coordinates = pd.DataFrame(coordinates, columns = ['Latitude', 'Longitude'])\ndf_ankara_loc['Latitude'] = df_ankara_coordinates['Latitude']\ndf_ankara_loc['Longitude'] = df_ankara_coordinates['Longitude']"
        },
        {
            "cell_type": "code",
            "execution_count": 14,
            "metadata": {},
            "outputs": [
                {
                    "data": {
                        "text/html": "<div>\n<style scoped>\n    .dataframe tbody tr th:only-of-type {\n        vertical-align: middle;\n    }\n\n    .dataframe tbody tr th {\n        vertical-align: top;\n    }\n\n    .dataframe thead th {\n        text-align: right;\n    }\n</style>\n<table border=\"1\" class=\"dataframe\">\n  <thead>\n    <tr style=\"text-align: right;\">\n      <th></th>\n      <th>District</th>\n      <th>Population (2017)</th>\n      <th>Area (km\u00b2)</th>\n      <th>Density (per km\u00b2)</th>\n      <th>Latitude</th>\n      <th>Longitude</th>\n    </tr>\n  </thead>\n  <tbody>\n    <tr>\n      <th>0</th>\n      <td>Akyurt</td>\n      <td>32.863</td>\n      <td>369</td>\n      <td>89</td>\n      <td>40.13082</td>\n      <td>33.08719</td>\n    </tr>\n    <tr>\n      <th>1</th>\n      <td>Alt\u0131nda\u011f</td>\n      <td>371.366</td>\n      <td>123</td>\n      <td>3.019</td>\n      <td>39.94171</td>\n      <td>32.85445</td>\n    </tr>\n    <tr>\n      <th>2</th>\n      <td>Aya\u015f</td>\n      <td>12.289</td>\n      <td>1.041</td>\n      <td>12</td>\n      <td>40.01516</td>\n      <td>32.33270</td>\n    </tr>\n    <tr>\n      <th>3</th>\n      <td>Bala</td>\n      <td>21.682</td>\n      <td>1.851</td>\n      <td>12</td>\n      <td>39.55391</td>\n      <td>33.12352</td>\n    </tr>\n    <tr>\n      <th>4</th>\n      <td>Beypazar\u0131</td>\n      <td>48.476</td>\n      <td>1.697</td>\n      <td>29</td>\n      <td>40.16811</td>\n      <td>31.92052</td>\n    </tr>\n  </tbody>\n</table>\n</div>",
                        "text/plain": "    District Population (2017) Area (km\u00b2) Density (per km\u00b2)  Latitude  \\\n0     Akyurt            32.863        369                89  40.13082   \n1   Alt\u0131nda\u011f           371.366        123             3.019  39.94171   \n2       Aya\u015f            12.289      1.041                12  40.01516   \n3       Bala            21.682      1.851                12  39.55391   \n4  Beypazar\u0131            48.476      1.697                29  40.16811   \n\n   Longitude  \n0   33.08719  \n1   32.85445  \n2   32.33270  \n3   33.12352  \n4   31.92052  "
                    },
                    "execution_count": 14,
                    "metadata": {},
                    "output_type": "execute_result"
                }
            ],
            "source": "df_ankara_loc.head()"
        },
        {
            "cell_type": "markdown",
            "metadata": {},
            "source": "## Foursquare API Data:"
        },
        {
            "cell_type": "markdown",
            "metadata": {},
            "source": "We will need data about different venues in different neighborhoods of that specific borough. In order to gain that information we will use \"Foursquare\" locational information. Foursquare is a location data provider with information about all manner of venues and events within an area of interest. Such information includes venue names, locations, menus and even photos. As such, the foursquare location platform will be used as the sole data source since all the stated required information can be obtained through the API.\n\nAfter finding the list of neighborhoods, we then connect to the Foursquare API to gather information about venues inside each and every neighborhood. For each neighborhood, we have chosen the radius to be 100 meter.\n\nThe data retrieved from Foursquare contained information of venues within a specified distance of the longitude and latitude of the postcodes. The information obtained per venue as follows:"
        },
        {
            "cell_type": "markdown",
            "metadata": {},
            "source": "1. Neighborhood\n2. Neighborhood Latitude\n3. Neighborhood Longitude\n4. Venue\n5. Name of the venue e.g. the name of a store or restaurant\n6. Venue Latitude\n7. Venue Longitude\n8. Venue Category"
        }
    ],
    "metadata": {
        "kernelspec": {
            "display_name": "Python 3.7",
            "language": "python",
            "name": "python3"
        },
        "language_info": {
            "codemirror_mode": {
                "name": "ipython",
                "version": 3
            },
            "file_extension": ".py",
            "mimetype": "text/x-python",
            "name": "python",
            "nbconvert_exporter": "python",
            "pygments_lexer": "ipython3",
            "version": "3.7.10"
        }
    },
    "nbformat": 4,
    "nbformat_minor": 1
}